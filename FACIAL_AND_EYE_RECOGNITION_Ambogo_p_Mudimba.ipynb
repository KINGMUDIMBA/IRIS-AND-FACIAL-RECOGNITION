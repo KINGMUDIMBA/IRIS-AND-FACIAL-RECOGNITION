{
  "nbformat": 4,
  "nbformat_minor": 0,
  "metadata": {
    "colab": {
      "name": "FACIAL AND EYE RECOGNITION. Ambogo.p.Mudimba",
      "provenance": [],
      "collapsed_sections": []
    },
    "kernelspec": {
      "display_name": "Python 3",
      "name": "python3"
    }
  },
  "cells": [
    {
      "cell_type": "markdown",
      "metadata": {
        "id": "UJCsI_TJxOWC"
      },
      "source": [
        "THIS IS A PROGRAMME TO RECOGNIZE FACES AND EYES\n"
      ]
    },
    {
      "cell_type": "code",
      "metadata": {
        "id": "vHw6OA51xk2X",
        "colab": {
          "base_uri": "https://localhost:8080/",
          "height": 132
        },
        "outputId": "229c704c-48fd-4636-a71a-e4079f3355a9"
      },
      "source": [
        "#Import open cv library\n",
        "\n",
        "import cv2\n",
        "\n",
        "#The Haar Classifiers\n",
        "face_cascade=cv2.cascadeClassifier('DataSets/Faces/haarcascade_frontalface_default.xml')\n",
        "eye_cascade=cv2.cascadeClassifier('DataSets/Faces/haarcascade_eye.xml')\n",
        "\n",
        "#READ IN THE IMAGE\n",
        "img=cv2.imread('DataSets/Faces/location of image file.jpg')\n",
        "faces=face_cascade.detectMultiscale(img, 1.3, 5)\n",
        "\n",
        "#print the number of faces found\n",
        "print('faces found:', len(faces))\n",
        "print('the image height,widt and channel:', img.shape)\n",
        "print('the coordinates of each face detected:', faces)\n",
        "\n",
        "#loop over all co-ordinate faces and draw rectangles for (xywh) in faces\n",
        "for (x,y,w,h) in faces :\n",
        "cv2.rectangle(img, (x,y), (x+w, y+h), (0,255,0), 2)\n",
        "roi_face=img[y:y+h,x:x+w]\n",
        "eyes=eye cascade.detectMultiscale(roi_face, 1.3, 5)\n",
        "for (ex,ey,eh) in eyes:\n",
        "  cv2.:rectangle(roi_face, (ex, ey), (ex+ew+ey+eh)255, 0, 0), 2)\n",
        "\n",
        "#write text on image\n",
        "font=cv2.FONT_HERSHEX_SIMPLEX\n",
        "text=cv.putText(img,'Face Detected', (o, img.shape[0], font, 2, (255 ,255, 255), 2))\n",
        "\n",
        "#show image\n",
        "cv.imshow('image', img)\n",
        "cv2.waitkey(0)\n",
        "cv2.destroy All windows\n"
      ],
      "execution_count": null,
      "outputs": [
        {
          "output_type": "error",
          "ename": "IndentationError",
          "evalue": "ignored",
          "traceback": [
            "\u001b[0;36m  File \u001b[0;32m\"<ipython-input-5-c2974bea7fa5>\"\u001b[0;36m, line \u001b[0;32m20\u001b[0m\n\u001b[0;31m    cv2.rectangle(img, (x,y), (x+w, y+h), (0,255,0), 2)\u001b[0m\n\u001b[0m      ^\u001b[0m\n\u001b[0;31mIndentationError\u001b[0m\u001b[0;31m:\u001b[0m expected an indented block\n"
          ]
        }
      ]
    }
  ]
}